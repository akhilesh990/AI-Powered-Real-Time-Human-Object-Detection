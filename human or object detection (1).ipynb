{
 "cells": [
  {
   "cell_type": "code",
   "execution_count": 1,
   "id": "ad1b2a60-c704-4f01-ab35-77caabbb8753",
   "metadata": {},
   "outputs": [
    {
     "name": "stdout",
     "output_type": "stream",
     "text": [
     
     ]
    }
   ],
   "source": [
    "!pip install ultralytics django opencv-python\n"
   ]
  },
  {
   "cell_type": "code",
   "execution_count": null,
   "id": "0f1940fd-356a-49b0-9066-7dee5986eaf8",
   "metadata": {},
   "outputs": [
    {
     "name": "stdout",
     "output_type": "stream",
     "text": [
      "Downloading https://github.com/ultralytics/assets/releases/download/v8.3.0/yolov8n.pt to 'yolov8n.pt'...\n"
     ]
    },
    {
     "name": "stderr",
     "output_type": "stream",
     "text": [
      "100%|██████████| 6.25M/6.25M [00:01<00:00, 4.41MB/s]\n"
     ]
    }
   ],
   "source": [
    "import cv2\n",
    "import os\n",
    "from ultralytics import YOLO\n",
    "\n",
    "# Create a directory to save detected objects\n",
    "save_dir = \"detected_objects\"\n",
    "os.makedirs(save_dir, exist_ok=True)\n",
    "\n",
    "# Load YOLOv8 model\n",
    "model = YOLO(\"yolov8n.pt\")\n",
    "\n",
    "# Open Webcam\n",
    "cap = cv2.VideoCapture(0)\n",
    "\n",
    "frame_count = 0  # Counter for naming saved images\n",
    "photo_count = 0  # Counter for photos captured in the session\n",
    "\n",
    "# Ask user to start the detection process\n",
    "while True:\n",
    "    user_input = input(\"Do you want to start object detection? (Yes/No): \").strip().lower()\n",
    "    if user_input == \"yes\":\n",
    "        break\n",
    "    elif user_input == \"no\":\n",
    "        print(\"Exiting program.\")\n",
    "        exit()\n",
    "    else:\n",
    "        print(\"Invalid input. Please enter 'Yes' or 'No'.\")\n",
    "\n",
    "while True:\n",
    "    ret, frame = cap.read()\n",
    "    if not ret:\n",
    "        break\n",
    "\n",
    "    results = model(frame)  # Perform detection\n",
    "\n",
    "    # Display detection results and draw bounding boxes\n",
    "    for result in results:\n",
    "        for i, box in enumerate(result.boxes):\n",
    "            x1, y1, x2, y2 = map(int, box.xyxy[0])  # Bounding box coordinates\n",
    "            label = model.names[int(box.cls)]  # Get class label\n",
    "            confidence = box.conf[0].item()  # Get confidence score\n",
    "\n",
    "            # Draw bounding box\n",
    "            cv2.rectangle(frame, (x1, y1), (x2, y2), (0, 255, 0), 2)\n",
    "            cv2.putText(frame, f\"{label} {confidence:.2f}\", (x1, y1 - 10),\n",
    "                        cv2.FONT_HERSHEY_SIMPLEX, 0.5, (0, 255, 0), 2)\n",
    "\n",
    "            # Save detected object as an image (if photo_count < 2)\n",
    "            if photo_count < 2:\n",
    "                object_img = frame[y1:y2, x1:x2]\n",
    "                object_filename = f\"{save_dir}/{label}_{frame_count}_{i}.jpg\"\n",
    "                cv2.imwrite(object_filename, object_img)\n",
    "                photo_count += 1  # Increment photo count\n",
    "\n",
    "    frame_count += 1\n",
    "\n",
    "    # Display the detection frame\n",
    "    cv2.imshow(\"Detection\", frame)\n",
    "\n",
    "    # Stop after 2 photos and show final output\n",
    "    if photo_count >= 2:\n",
    "        cv2.putText(frame, \"2 photos captured! Press 'q' to quit.\", (10, 30),\n",
    "                    cv2.FONT_HERSHEY_SIMPLEX, 0.8, (0, 255, 0), 2)\n",
    "        cv2.imshow(\"Detection\", frame)\n",
    "\n",
    "        key = cv2.waitKey(1) & 0xFF\n",
    "        if key == ord('q'):  # If 'q' is pressed, quit the program\n",
    "            break\n",
    "\n",
    "    cv2.waitKey(1)\n",
    "\n",
    "cap.release()\n",
    "cv2.destroyAllWindows()\n",
    "\n",
    "# Display the final output after capturing 2 photos\n",
    "print(f\"Detected images are saved in the directory: {save_dir}\")\n",
    "print(\"Program has finished. Exiting.\")\n"
   ]
  },
  {
   "cell_type": "code",
   "execution_count": null,
   "id": "ca6020d1-9b01-499b-882b-09505006a8d7",
   "metadata": {},
   "outputs": [],
   "source": []
  }
 ],
 "metadata": {
  "kernelspec": {
   "display_name": "base",
   "language": "python",
   "name": "python3"
  },
  "language_info": {
   "codemirror_mode": {
    "name": "ipython",
    "version": 3
   },
   "file_extension": ".py",
   "mimetype": "text/x-python",
   "name": "python",
   "nbconvert_exporter": "python",
   "pygments_lexer": "ipython3",
   "version": "3.12.7"
  }
 },
 "nbformat": 4,
 "nbformat_minor": 5
}
